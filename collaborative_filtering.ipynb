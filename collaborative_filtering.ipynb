{
 "cells": [
  {
   "cell_type": "code",
   "execution_count": 1,
   "id": "978930b5",
   "metadata": {},
   "outputs": [],
   "source": [
    "import findspark\n",
    "findspark.init()"
   ]
  },
  {
   "cell_type": "code",
   "execution_count": 2,
   "id": "acb3b557",
   "metadata": {
    "id": "sJJk60L2R3i-"
   },
   "outputs": [],
   "source": [
    "from pyspark.sql import SparkSession\n",
    "from pyspark import SparkContext\n",
    "from pyspark.sql import SQLContext\n",
    "from pyspark.ml.evaluation import RegressionEvaluator\n",
    "from pyspark.ml.recommendation import ALS\n",
    "from pyspark.sql.functions import col, explode"
   ]
  },
  {
   "cell_type": "code",
   "execution_count": 3,
   "id": "0bfd618c",
   "metadata": {
    "id": "CL4YLpFLR6SX"
   },
   "outputs": [],
   "source": [
    "sc = SparkContext()"
   ]
  },
  {
   "cell_type": "code",
   "execution_count": 4,
   "id": "fc65d812",
   "metadata": {
    "id": "L43gHXi-R76G"
   },
   "outputs": [],
   "source": [
    "spark = SparkSession.builder.appName('Recommendation_project_2').getOrCreate()"
   ]
  },
  {
   "cell_type": "code",
   "execution_count": 5,
   "id": "d05e81df",
   "metadata": {
    "id": "DbKiU7RfR_V2"
   },
   "outputs": [],
   "source": [
    "data = spark.read.csv('review.csv',inferSchema=True,header=True)"
   ]
  },
  {
   "cell_type": "code",
   "execution_count": 6,
   "id": "a41ec4cd",
   "metadata": {},
   "outputs": [],
   "source": [
    "data = data.select(['customer_id', 'rating', 'product_id'])"
   ]
  },
  {
   "cell_type": "code",
   "execution_count": 7,
   "id": "0a4bdda9",
   "metadata": {
    "colab": {
     "base_uri": "https://localhost:8080/"
    },
    "id": "e9AxO6eVSA53",
    "outputId": "a86d5fac-be75-4a86-c001-7bc9c86109e6"
   },
   "outputs": [
    {
     "name": "stdout",
     "output_type": "stream",
     "text": [
      "+-----------+------+----------+\n",
      "|customer_id|rating|product_id|\n",
      "+-----------+------+----------+\n",
      "|709310     |3     |10001012  |\n",
      "|10701688   |5     |10001012  |\n",
      "|11763074   |5     |10001012  |\n",
      "|9909549    |5     |10001012  |\n",
      "|1827148    |5     |10001012  |\n",
      "+-----------+------+----------+\n",
      "only showing top 5 rows\n",
      "\n"
     ]
    }
   ],
   "source": [
    "data.show(5, False)"
   ]
  },
  {
   "cell_type": "code",
   "execution_count": 8,
   "id": "51f845ca",
   "metadata": {
    "scrolled": false
   },
   "outputs": [
    {
     "name": "stdout",
     "output_type": "stream",
     "text": [
      "root\n",
      " |-- customer_id: string (nullable = true)\n",
      " |-- rating: string (nullable = true)\n",
      " |-- product_id: string (nullable = true)\n",
      "\n"
     ]
    }
   ],
   "source": [
    "data.printSchema()"
   ]
  },
  {
   "cell_type": "code",
   "execution_count": 9,
   "id": "73775d87",
   "metadata": {},
   "outputs": [],
   "source": [
    "data = data.withColumn(\"customer_id\", col('customer_id').cast('int'))\\\n",
    "        .withColumn(\"rating\", col('rating').cast('int'))\\\n",
    "        .withColumn(\"product_id\", col('product_id').cast('int'))"
   ]
  },
  {
   "cell_type": "code",
   "execution_count": 10,
   "id": "ab0b038e",
   "metadata": {},
   "outputs": [],
   "source": [
    "from pyspark.sql.types import DoubleType\n",
    "from pyspark.sql.functions import isnan, when, count, col, udf"
   ]
  },
  {
   "cell_type": "code",
   "execution_count": 11,
   "id": "b0ea0e3a",
   "metadata": {},
   "outputs": [
    {
     "data": {
      "text/html": [
       "<div>\n",
       "<style scoped>\n",
       "    .dataframe tbody tr th:only-of-type {\n",
       "        vertical-align: middle;\n",
       "    }\n",
       "\n",
       "    .dataframe tbody tr th {\n",
       "        vertical-align: top;\n",
       "    }\n",
       "\n",
       "    .dataframe thead th {\n",
       "        text-align: right;\n",
       "    }\n",
       "</style>\n",
       "<table border=\"1\" class=\"dataframe\">\n",
       "  <thead>\n",
       "    <tr style=\"text-align: right;\">\n",
       "      <th></th>\n",
       "      <th>0</th>\n",
       "    </tr>\n",
       "  </thead>\n",
       "  <tbody>\n",
       "    <tr>\n",
       "      <th>customer_id</th>\n",
       "      <td>1722</td>\n",
       "    </tr>\n",
       "    <tr>\n",
       "      <th>rating</th>\n",
       "      <td>1752</td>\n",
       "    </tr>\n",
       "    <tr>\n",
       "      <th>product_id</th>\n",
       "      <td>1722</td>\n",
       "    </tr>\n",
       "  </tbody>\n",
       "</table>\n",
       "</div>"
      ],
      "text/plain": [
       "                0\n",
       "customer_id  1722\n",
       "rating       1752\n",
       "product_id   1722"
      ]
     },
     "execution_count": 11,
     "metadata": {},
     "output_type": "execute_result"
    }
   ],
   "source": [
    "data.select([count(when(col(c).isNull(), c)).alias(c) for c in \n",
    "           data.columns]).toPandas().T"
   ]
  },
  {
   "cell_type": "code",
   "execution_count": 12,
   "id": "bc2c07cf",
   "metadata": {
    "scrolled": true
   },
   "outputs": [],
   "source": [
    "data = data.dropna()"
   ]
  },
  {
   "cell_type": "code",
   "execution_count": 13,
   "id": "1af57c33",
   "metadata": {},
   "outputs": [
    {
     "data": {
      "text/html": [
       "<div>\n",
       "<style scoped>\n",
       "    .dataframe tbody tr th:only-of-type {\n",
       "        vertical-align: middle;\n",
       "    }\n",
       "\n",
       "    .dataframe tbody tr th {\n",
       "        vertical-align: top;\n",
       "    }\n",
       "\n",
       "    .dataframe thead th {\n",
       "        text-align: right;\n",
       "    }\n",
       "</style>\n",
       "<table border=\"1\" class=\"dataframe\">\n",
       "  <thead>\n",
       "    <tr style=\"text-align: right;\">\n",
       "      <th></th>\n",
       "      <th>0</th>\n",
       "    </tr>\n",
       "  </thead>\n",
       "  <tbody>\n",
       "    <tr>\n",
       "      <th>customer_id</th>\n",
       "      <td>0</td>\n",
       "    </tr>\n",
       "    <tr>\n",
       "      <th>rating</th>\n",
       "      <td>0</td>\n",
       "    </tr>\n",
       "    <tr>\n",
       "      <th>product_id</th>\n",
       "      <td>0</td>\n",
       "    </tr>\n",
       "  </tbody>\n",
       "</table>\n",
       "</div>"
      ],
      "text/plain": [
       "             0\n",
       "customer_id  0\n",
       "rating       0\n",
       "product_id   0"
      ]
     },
     "execution_count": 13,
     "metadata": {},
     "output_type": "execute_result"
    }
   ],
   "source": [
    "data.select([count(when(col(c).isNull(), c)).alias(c) for c in \n",
    "           data.columns]).toPandas().T"
   ]
  },
  {
   "cell_type": "code",
   "execution_count": 14,
   "id": "1b2a617d",
   "metadata": {},
   "outputs": [],
   "source": [
    "# Distinct customer_id and product_id\n",
    "users = data.select('customer_id').distinct().count()\n",
    "products = data.select('product_id').distinct().count()\n",
    "numerator = data.count()"
   ]
  },
  {
   "cell_type": "code",
   "execution_count": 15,
   "id": "f1ecde03",
   "metadata": {},
   "outputs": [
    {
     "data": {
      "text/plain": [
       "364069"
      ]
     },
     "metadata": {},
     "output_type": "display_data"
    },
    {
     "data": {
      "text/plain": [
       "251467"
      ]
     },
     "metadata": {},
     "output_type": "display_data"
    },
    {
     "data": {
      "text/plain": [
       "4218"
      ]
     },
     "metadata": {},
     "output_type": "display_data"
    }
   ],
   "source": [
    "display(numerator, users, products)"
   ]
  },
  {
   "cell_type": "code",
   "execution_count": 16,
   "id": "d8a61ccc",
   "metadata": {},
   "outputs": [],
   "source": [
    "# Split training and test data\n",
    "(training, test) = data.randomSplit([0.8, 0.2])"
   ]
  },
  {
   "cell_type": "markdown",
   "id": "c81f8ead",
   "metadata": {},
   "source": [
    "### Recommendation model"
   ]
  },
  {
   "cell_type": "code",
   "execution_count": 17,
   "id": "a65bec14",
   "metadata": {},
   "outputs": [],
   "source": [
    "from pyspark.ml.evaluation import RegressionEvaluator\n",
    "from pyspark.ml.recommendation import ALS"
   ]
  },
  {
   "cell_type": "code",
   "execution_count": 18,
   "id": "785d77f7",
   "metadata": {},
   "outputs": [],
   "source": [
    "als = ALS(maxIter = 5, regParam = 0.4,\n",
    "         userCol = 'customer_id',\n",
    "         itemCol = 'product_id',\n",
    "         ratingCol = 'rating',\n",
    "         coldStartStrategy = 'drop',\n",
    "         nonnegative = True)\n",
    "model = als.fit(training)"
   ]
  },
  {
   "cell_type": "code",
   "execution_count": 19,
   "id": "f0d04c66",
   "metadata": {},
   "outputs": [],
   "source": [
    "# Evaluate the model by computing the RMSE on the test data\n",
    "predictions = model.transform(test)"
   ]
  },
  {
   "cell_type": "code",
   "execution_count": 20,
   "id": "3114c702",
   "metadata": {
    "scrolled": true
   },
   "outputs": [
    {
     "name": "stdout",
     "output_type": "stream",
     "text": [
      "+-----------+------+----------+----------+\n",
      "|customer_id|rating|product_id|prediction|\n",
      "+-----------+------+----------+----------+\n",
      "|    6104746|     4|   2774881| 3.6907284|\n",
      "|    6722335|     1|   2774881| 3.4951613|\n",
      "|    7572140|     5|   3222489| 3.2909632|\n",
      "|   11535292|     5|   5983423|  3.813942|\n",
      "|   11681400|     5|   2774881| 4.3285723|\n",
      "+-----------+------+----------+----------+\n",
      "only showing top 5 rows\n",
      "\n"
     ]
    }
   ],
   "source": [
    "predictions.show(5)"
   ]
  },
  {
   "cell_type": "code",
   "execution_count": 21,
   "id": "4017206a",
   "metadata": {},
   "outputs": [
    {
     "name": "stdout",
     "output_type": "stream",
     "text": [
      "Root-mean-square error = 1.2602289484884135\n"
     ]
    }
   ],
   "source": [
    "evaluator = RegressionEvaluator(metricName = 'rmse',\n",
    "                               labelCol = 'rating',\n",
    "                               predictionCol = 'prediction')\n",
    "rmse = evaluator.evaluate(predictions)\n",
    "print('Root-mean-square error = ' + str(rmse))"
   ]
  },
  {
   "cell_type": "markdown",
   "id": "ae6cb26f",
   "metadata": {},
   "source": [
    "- On average, this model is ~ 1.26 from perfect recommendations"
   ]
  },
  {
   "cell_type": "markdown",
   "id": "8382b1bd",
   "metadata": {},
   "source": [
    "### Hiệu chỉnh tham số"
   ]
  },
  {
   "cell_type": "code",
   "execution_count": 22,
   "id": "ab0076dd",
   "metadata": {},
   "outputs": [],
   "source": [
    "als_t = ALS(maxIter = 10, regParam = 0.4,\n",
    "         userCol = 'customer_id',\n",
    "         itemCol = 'product_id',\n",
    "         ratingCol = 'rating',\n",
    "         coldStartStrategy = 'drop',\n",
    "         nonnegative = True)\n",
    "model_t = als_t.fit(training)"
   ]
  },
  {
   "cell_type": "code",
   "execution_count": 23,
   "id": "5a7a8937",
   "metadata": {},
   "outputs": [],
   "source": [
    "# Evaluate the model by computing theRMSE on the test data\n",
    "predictions_t = model_t.transform(test)"
   ]
  },
  {
   "cell_type": "code",
   "execution_count": 24,
   "id": "f68cb31e",
   "metadata": {},
   "outputs": [
    {
     "name": "stdout",
     "output_type": "stream",
     "text": [
      "Root-mean-square error = 1.1146470113238718\n"
     ]
    }
   ],
   "source": [
    "rmse_t = evaluator.evaluate(predictions_t)\n",
    "print('Root-mean-square error = ' + str(rmse_t))"
   ]
  },
  {
   "cell_type": "markdown",
   "id": "f3158596",
   "metadata": {},
   "source": [
    "- Chọn model_t vì cho rmse thấp hơn"
   ]
  },
  {
   "cell_type": "markdown",
   "id": "01d95778",
   "metadata": {},
   "source": [
    "### Đưa ra đề xuất cho tất cả các user"
   ]
  },
  {
   "cell_type": "code",
   "execution_count": 28,
   "id": "a685b2af",
   "metadata": {},
   "outputs": [],
   "source": [
    "# Get 20 recommendations which have highest rating\n",
    "user_recs = model_t.recommendForAllUsers(20)"
   ]
  },
  {
   "cell_type": "code",
   "execution_count": 29,
   "id": "57f42a3c",
   "metadata": {},
   "outputs": [
    {
     "name": "stdout",
     "output_type": "stream",
     "text": [
      "root\n",
      " |-- customer_id: integer (nullable = false)\n",
      " |-- recommendations: array (nullable = true)\n",
      " |    |-- element: struct (containsNull = true)\n",
      " |    |    |-- product_id: integer (nullable = true)\n",
      " |    |    |-- rating: float (nullable = true)\n",
      "\n"
     ]
    }
   ],
   "source": [
    "user_recs.printSchema()"
   ]
  },
  {
   "cell_type": "code",
   "execution_count": 30,
   "id": "fa7d0fd0",
   "metadata": {},
   "outputs": [
    {
     "name": "stdout",
     "output_type": "stream",
     "text": [
      "Row(customer_id=28, recommendations=[Row(product_id=69507754, rating=5.22247314453125), Row(product_id=73238633, rating=4.940127849578857), Row(product_id=70567940, rating=4.84923791885376), Row(product_id=2080951, rating=4.847939491271973), Row(product_id=73830099, rating=4.846951961517334), Row(product_id=45327625, rating=4.82234001159668), Row(product_id=68174409, rating=4.790010452270508), Row(product_id=38606217, rating=4.757803916931152), Row(product_id=73844240, rating=4.749032497406006), Row(product_id=72520984, rating=4.744541168212891), Row(product_id=53751834, rating=4.737171649932861), Row(product_id=49729049, rating=4.736989498138428), Row(product_id=3525255, rating=4.729927062988281), Row(product_id=77737982, rating=4.725241661071777), Row(product_id=50592901, rating=4.72523832321167), Row(product_id=21057555, rating=4.72262716293335), Row(product_id=8321616, rating=4.722252368927002), Row(product_id=76283023, rating=4.718403339385986), Row(product_id=20015885, rating=4.717875003814697), Row(product_id=14033612, rating=4.710973739624023)])\n",
      "\n",
      "\n",
      "Row(customer_id=588, recommendations=[Row(product_id=73238633, rating=4.35206413269043), Row(product_id=15623237, rating=4.138151168823242), Row(product_id=52785519, rating=4.064938068389893), Row(product_id=69507754, rating=4.047988414764404), Row(product_id=28075354, rating=4.0181498527526855), Row(product_id=19395453, rating=4.017176151275635), Row(product_id=4597127, rating=4.012729167938232), Row(product_id=8877900, rating=3.988051414489746), Row(product_id=13583766, rating=3.9676995277404785), Row(product_id=10001353, rating=3.9597582817077637), Row(product_id=59081231, rating=3.957266330718994), Row(product_id=57625269, rating=3.9457409381866455), Row(product_id=74489817, rating=3.93314266204834), Row(product_id=51466982, rating=3.9301552772521973), Row(product_id=73830099, rating=3.929072380065918), Row(product_id=68297085, rating=3.929058313369751), Row(product_id=990925, rating=3.925630807876587), Row(product_id=23258088, rating=3.9189906120300293), Row(product_id=68027300, rating=3.9160048961639404), Row(product_id=38606217, rating=3.9104628562927246)])\n",
      "\n",
      "\n"
     ]
    }
   ],
   "source": [
    "for user in user_recs.head(2):\n",
    "    print(user)\n",
    "    print('\\n')"
   ]
  },
  {
   "cell_type": "markdown",
   "id": "d407a0fe",
   "metadata": {},
   "source": [
    "### Đưa ra đề xuất cho 1 customer cụ thể có customer_id là 588"
   ]
  },
  {
   "cell_type": "code",
   "execution_count": 40,
   "id": "64506c39",
   "metadata": {},
   "outputs": [
    {
     "name": "stdout",
     "output_type": "stream",
     "text": [
      "+-----------+---------------------------------------------------------------------------------------------------------------------------------------------------------------------------------------------------------------------------------------------------------------------------------------------------------------------------------------------------------------------------------------------------------------------------------------------------------------+\n",
      "|customer_id|recommendations                                                                                                                                                                                                                                                                                                                                                                                                                                                |\n",
      "+-----------+---------------------------------------------------------------------------------------------------------------------------------------------------------------------------------------------------------------------------------------------------------------------------------------------------------------------------------------------------------------------------------------------------------------------------------------------------------------+\n",
      "|588        |[{73238633, 4.352064}, {15623237, 4.138151}, {52785519, 4.064938}, {69507754, 4.0479884}, {28075354, 4.01815}, {19395453, 4.017176}, {4597127, 4.012729}, {8877900, 3.9880514}, {13583766, 3.9676995}, {10001353, 3.9597583}, {59081231, 3.9572663}, {57625269, 3.945741}, {74489817, 3.9331427}, {51466982, 3.9301553}, {73830099, 3.9290724}, {68297085, 3.9290583}, {990925, 3.9256308}, {23258088, 3.9189906}, {68027300, 3.916005}, {38606217, 3.9104629}]|\n",
      "+-----------+---------------------------------------------------------------------------------------------------------------------------------------------------------------------------------------------------------------------------------------------------------------------------------------------------------------------------------------------------------------------------------------------------------------------------------------------------------------+\n",
      "\n"
     ]
    }
   ],
   "source": [
    "customer_id = 588\n",
    "result = user_recs.filter(user_recs['customer_id']==customer_id)\n",
    "result.show(truncate = False)"
   ]
  },
  {
   "cell_type": "markdown",
   "id": "010fe055",
   "metadata": {},
   "source": [
    "### Chuẩn hóa dữ liệu cho user"
   ]
  },
  {
   "cell_type": "code",
   "execution_count": 41,
   "id": "3732575a",
   "metadata": {},
   "outputs": [
    {
     "name": "stdout",
     "output_type": "stream",
     "text": [
      "+-----------+--------------------+----------+---------+\n",
      "|customer_id|                 col|product_id|   rating|\n",
      "+-----------+--------------------+----------+---------+\n",
      "|        588|{73238633, 4.352064}|  73238633| 4.352064|\n",
      "|        588|{15623237, 4.138151}|  15623237| 4.138151|\n",
      "|        588|{52785519, 4.064938}|  52785519| 4.064938|\n",
      "|        588|{69507754, 4.0479...|  69507754|4.0479884|\n",
      "|        588| {28075354, 4.01815}|  28075354|  4.01815|\n",
      "|        588|{19395453, 4.017176}|  19395453| 4.017176|\n",
      "|        588| {4597127, 4.012729}|   4597127| 4.012729|\n",
      "|        588|{8877900, 3.9880514}|   8877900|3.9880514|\n",
      "|        588|{13583766, 3.9676...|  13583766|3.9676995|\n",
      "|        588|{10001353, 3.9597...|  10001353|3.9597583|\n",
      "|        588|{59081231, 3.9572...|  59081231|3.9572663|\n",
      "|        588|{57625269, 3.945741}|  57625269| 3.945741|\n",
      "|        588|{74489817, 3.9331...|  74489817|3.9331427|\n",
      "|        588|{51466982, 3.9301...|  51466982|3.9301553|\n",
      "|        588|{73830099, 3.9290...|  73830099|3.9290724|\n",
      "|        588|{68297085, 3.9290...|  68297085|3.9290583|\n",
      "|        588| {990925, 3.9256308}|    990925|3.9256308|\n",
      "|        588|{23258088, 3.9189...|  23258088|3.9189906|\n",
      "|        588|{68027300, 3.916005}|  68027300| 3.916005|\n",
      "|        588|{38606217, 3.9104...|  38606217|3.9104629|\n",
      "+-----------+--------------------+----------+---------+\n",
      "\n"
     ]
    }
   ],
   "source": [
    "result = result.select(result.customer_id, explode(result.recommendations))\n",
    "result = result.withColumn('product_id', result.col.getField('product_id')).withColumn('rating', result.col.getField('rating'))\n",
    "result.show()"
   ]
  },
  {
   "cell_type": "markdown",
   "id": "6c43aa9b",
   "metadata": {},
   "source": [
    "### Lọc đề xuất dựa trên ngưỡng"
   ]
  },
  {
   "cell_type": "code",
   "execution_count": 42,
   "id": "01191c2a",
   "metadata": {
    "scrolled": false
   },
   "outputs": [
    {
     "name": "stdout",
     "output_type": "stream",
     "text": [
      "+-----------+--------------------+----------+---------+\n",
      "|customer_id|                 col|product_id|   rating|\n",
      "+-----------+--------------------+----------+---------+\n",
      "|        588|{73238633, 4.352064}|  73238633| 4.352064|\n",
      "|        588|{15623237, 4.138151}|  15623237| 4.138151|\n",
      "|        588|{52785519, 4.064938}|  52785519| 4.064938|\n",
      "|        588|{69507754, 4.0479...|  69507754|4.0479884|\n",
      "|        588| {28075354, 4.01815}|  28075354|  4.01815|\n",
      "|        588|{19395453, 4.017176}|  19395453| 4.017176|\n",
      "|        588| {4597127, 4.012729}|   4597127| 4.012729|\n",
      "|        588|{8877900, 3.9880514}|   8877900|3.9880514|\n",
      "|        588|{13583766, 3.9676...|  13583766|3.9676995|\n",
      "|        588|{10001353, 3.9597...|  10001353|3.9597583|\n",
      "|        588|{59081231, 3.9572...|  59081231|3.9572663|\n",
      "|        588|{57625269, 3.945741}|  57625269| 3.945741|\n",
      "|        588|{74489817, 3.9331...|  74489817|3.9331427|\n",
      "|        588|{51466982, 3.9301...|  51466982|3.9301553|\n",
      "|        588|{73830099, 3.9290...|  73830099|3.9290724|\n",
      "|        588|{68297085, 3.9290...|  68297085|3.9290583|\n",
      "|        588| {990925, 3.9256308}|    990925|3.9256308|\n",
      "|        588|{23258088, 3.9189...|  23258088|3.9189906|\n",
      "|        588|{68027300, 3.916005}|  68027300| 3.916005|\n",
      "|        588|{38606217, 3.9104...|  38606217|3.9104629|\n",
      "+-----------+--------------------+----------+---------+\n",
      "\n"
     ]
    }
   ],
   "source": [
    "# Filter all products having rating >= 3.0\n",
    "result.filter(result.rating >= 3.0).show()"
   ]
  },
  {
   "cell_type": "code",
   "execution_count": 55,
   "id": "d6c0a7fd",
   "metadata": {},
   "outputs": [
    {
     "name": "stdout",
     "output_type": "stream",
     "text": [
      "+----------+-----------------------------------------------------------------------------------------------+\n",
      "|product_id|name                                                                                           |\n",
      "+----------+-----------------------------------------------------------------------------------------------+\n",
      "|48102821  |Tai nghe Bluetooth Inpods 12 - Cảm biến vân tay, chống nước,màu sắc đa dạng- 5 màu sắc lựa chọn|\n",
      "|52333193  |Tai nghe bluetooth không dây F9 True wireless Dock Sạc có Led Báo Pin Kép                      |\n",
      "|299461    |Chuột Không Dây Logitech M331 Silent - Hàng Chính Hãng                                         |\n",
      "|57440329  |Loa Bluetooth 5.0 Kiêm Đồng Hồ Báo Thức - [[ 2 Trong 1 ]] - Robot - Hàng Chính Hãng            |\n",
      "|38458616  |Tai Nghe Bluetooth Apple AirPods Pro True Wireless - MWP22 - Hàng Chính Hãng VN/A              |\n",
      "+----------+-----------------------------------------------------------------------------------------------+\n",
      "only showing top 5 rows\n",
      "\n"
     ]
    }
   ],
   "source": [
    "product = spark.read.csv('product.csv',inferSchema=True,header=True).withColumnRenamed('item_id', 'product_id')\n",
    "product = product.select(['product_id', 'name'])\n",
    "product.show(5, False)"
   ]
  },
  {
   "cell_type": "code",
   "execution_count": 57,
   "id": "17ebf79a",
   "metadata": {},
   "outputs": [
    {
     "name": "stdout",
     "output_type": "stream",
     "text": [
      "+----------+-----------+--------------------+---------+--------------------+\n",
      "|product_id|customer_id|                 col|   rating|                name|\n",
      "+----------+-----------+--------------------+---------+--------------------+\n",
      "|  73238633|        588|{73238633, 4.352064}| 4.352064|Ổ cứng di động Ex...|\n",
      "|  15623237|        588|{15623237, 4.138151}| 4.138151|Tủ đông ALASKA 2 ...|\n",
      "|  52785519|        588|{52785519, 4.064938}| 4.064938|Máy giặt Toshiba ...|\n",
      "|  69507754|        588|{69507754, 4.0479...|4.0479884|Bo mạch chủ Gigab...|\n",
      "|  28075354|        588| {28075354, 4.01815}|  4.01815|Card Màn Hình VGA...|\n",
      "|  19395453|        588|{19395453, 4.017176}| 4.017176|MÁY RỬA CHÉN BOSC...|\n",
      "|   4597127|        588| {4597127, 4.012729}| 4.012729|Giá Treo Tivi Sát...|\n",
      "|   8877900|        588|{8877900, 3.9880514}|3.9880514|Miếng Dán Bảo Vệ ...|\n",
      "|  13583766|        588|{13583766, 3.9676...|3.9676995|Thẻ Nhớ SDXC SanD...|\n",
      "|  10001353|        588|{10001353, 3.9597...|3.9597583|RAM Laptop Samsun...|\n",
      "|  59081231|        588|{59081231, 3.9572...|3.9572663|Laptop HP ProBook...|\n",
      "|  57625269|        588|{57625269, 3.945741}| 3.945741|Android Tivi Sony...|\n",
      "|  74489817|        588|{74489817, 3.9331...|3.9331427|Điện Thoại Oppo R...|\n",
      "|  51466982|        588|{51466982, 3.9301...|3.9301553|Camera Ip Wifi Ng...|\n",
      "|  73830099|        588|{73830099, 3.9290...|3.9290724|Laptop Acer Aspir...|\n",
      "|  68297085|        588|{68297085, 3.9290...|3.9290583|Gimbal Feiyu AK20...|\n",
      "|    990925|        588| {990925, 3.9256308}|3.9256308|Ổ Cứng SSD WD Blu...|\n",
      "|  23258088|        588|{23258088, 3.9189...|3.9189906|\"Máy Tính Bảng Sa...|\n",
      "|  68027300|        588|{68027300, 3.916005}| 3.916005|Tenda Bộ phát Wif...|\n",
      "|  38606217|        588|{38606217, 3.9104...|3.9104629|Máy Ảnh Sony Alph...|\n",
      "+----------+-----------+--------------------+---------+--------------------+\n",
      "\n"
     ]
    }
   ],
   "source": [
    "result.join(product, on='product_id').filter('customer_id = 588').show()"
   ]
  },
  {
   "cell_type": "code",
   "execution_count": null,
   "id": "9d150459",
   "metadata": {},
   "outputs": [],
   "source": []
  }
 ],
 "metadata": {
  "kernelspec": {
   "display_name": "Python 3 (ipykernel)",
   "language": "python",
   "name": "python3"
  },
  "language_info": {
   "codemirror_mode": {
    "name": "ipython",
    "version": 3
   },
   "file_extension": ".py",
   "mimetype": "text/x-python",
   "name": "python",
   "nbconvert_exporter": "python",
   "pygments_lexer": "ipython3",
   "version": "3.8.10"
  }
 },
 "nbformat": 4,
 "nbformat_minor": 5
}
